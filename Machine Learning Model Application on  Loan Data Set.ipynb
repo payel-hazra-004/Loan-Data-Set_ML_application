{
 "cells": [
  {
   "cell_type": "code",
   "execution_count": 1,
   "id": "0f2cea19",
   "metadata": {},
   "outputs": [],
   "source": [
    "import pandas as pd\n",
    "df=pd.read_csv(\"loan_data_set_lyst.csv\")"
   ]
  },
  {
   "cell_type": "code",
   "execution_count": 2,
   "id": "665eee54",
   "metadata": {},
   "outputs": [
    {
     "data": {
      "text/plain": [
       "Loan_ID               0\n",
       "Gender               13\n",
       "Married               3\n",
       "Dependents           15\n",
       "Education             0\n",
       "Self_Employed        32\n",
       "ApplicantIncome       0\n",
       "CoapplicantIncome     0\n",
       "LoanAmount           22\n",
       "Loan_Amount_Term     14\n",
       "Credit_History       50\n",
       "Property_Area         0\n",
       "Loan_Status           0\n",
       "dtype: int64"
      ]
     },
     "execution_count": 2,
     "metadata": {},
     "output_type": "execute_result"
    }
   ],
   "source": [
    "df.isnull().sum()"
   ]
  },
  {
   "cell_type": "code",
   "execution_count": 3,
   "id": "8efa6066",
   "metadata": {},
   "outputs": [],
   "source": [
    "df.fillna(method=\"ffill\",inplace=True)\n",
    "df.fillna(method=\"bfill\",inplace=True)\n"
   ]
  },
  {
   "cell_type": "code",
   "execution_count": 4,
   "id": "ab6c46a7",
   "metadata": {},
   "outputs": [],
   "source": [
    "df1=pd.get_dummies(df,columns=[\"Gender\",\"Married\",\"Dependents\",\"Education\",\"Self_Employed\",\"Property_Area\",\"Loan_Status\"])\n",
    "\n",
    "df1.dtypes\n",
    "df1.drop(\"Gender_Female\",axis=1,inplace=True)\n",
    "df1.drop(\"Married_No\",axis=1,inplace=True)\n",
    "df1.drop(\"Education_Graduate\",axis=1,inplace=True)\n",
    "df1.drop(\"Self_Employed_No\",axis=1,inplace=True)\n",
    "df1.drop(\"Property_Area_Rural\",axis=1,inplace=True)\n",
    "df1.drop(\"Loan_Status_N\",axis=1,inplace=True)\n",
    "df1.drop(\"Dependents_3+\",axis=1,inplace=True)\n"
   ]
  },
  {
   "cell_type": "code",
   "execution_count": 5,
   "id": "1e53f20f",
   "metadata": {},
   "outputs": [],
   "source": [
    "x=df1.iloc[:,2:15]\n",
    "y=df1.iloc[:,-1]\n",
    "\n",
    "from sklearn.model_selection import train_test_split\n",
    "x_train,x_test,y_train,y_test=train_test_split(x,y,test_size=0.25,random_state=(0))\n"
   ]
  },
  {
   "cell_type": "code",
   "execution_count": 6,
   "id": "24de2314",
   "metadata": {},
   "outputs": [
    {
     "name": "stderr",
     "output_type": "stream",
     "text": [
      "C:\\Users\\Payel\\anaconda3\\lib\\site-packages\\sklearn\\linear_model\\_logistic.py:814: ConvergenceWarning: lbfgs failed to converge (status=1):\n",
      "STOP: TOTAL NO. of ITERATIONS REACHED LIMIT.\n",
      "\n",
      "Increase the number of iterations (max_iter) or scale the data as shown in:\n",
      "    https://scikit-learn.org/stable/modules/preprocessing.html\n",
      "Please also refer to the documentation for alternative solver options:\n",
      "    https://scikit-learn.org/stable/modules/linear_model.html#logistic-regression\n",
      "  n_iter_i = _check_optimize_result(\n"
     ]
    }
   ],
   "source": [
    "from sklearn.linear_model import LogisticRegression\n",
    "m1=LogisticRegression()\n",
    "m1.fit(x_train, y_train)\n",
    "y_pred=m1.predict(x_test)"
   ]
  },
  {
   "cell_type": "code",
   "execution_count": 7,
   "id": "b0c78df4",
   "metadata": {},
   "outputs": [
    {
     "name": "stdout",
     "output_type": "stream",
     "text": [
      "0.8506493506493507\n",
      "[[ 23  20]\n",
      " [  3 108]]\n"
     ]
    }
   ],
   "source": [
    "from sklearn.metrics import accuracy_score,confusion_matrix\n",
    "acc=accuracy_score(y_test, y_pred)\n",
    "c=confusion_matrix(y_test,y_pred)\n",
    "print(acc)\n",
    "print(c)\n"
   ]
  },
  {
   "cell_type": "code",
   "execution_count": null,
   "id": "637f9017",
   "metadata": {},
   "outputs": [],
   "source": []
  }
 ],
 "metadata": {
  "kernelspec": {
   "display_name": "Python 3 (ipykernel)",
   "language": "python",
   "name": "python3"
  },
  "language_info": {
   "codemirror_mode": {
    "name": "ipython",
    "version": 3
   },
   "file_extension": ".py",
   "mimetype": "text/x-python",
   "name": "python",
   "nbconvert_exporter": "python",
   "pygments_lexer": "ipython3",
   "version": "3.9.13"
  }
 },
 "nbformat": 4,
 "nbformat_minor": 5
}
